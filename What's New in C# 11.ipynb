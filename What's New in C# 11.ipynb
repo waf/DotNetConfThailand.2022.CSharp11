{
 "cells": [
  {
   "attachments": {},
   "cell_type": "markdown",
   "metadata": {
    "dotnet_interactive": {
     "language": "csharp"
    },
    "polyglot_notebook": {
     "kernelName": "csharp"
    }
   },
   "source": [
    "# What's New in C# 11\n",
    "\n",
    "[.NET Conf Thailand 2022](https://dotnetconfth.com/)\n",
    "\n",
    "Will Fuqua - [Jetabroad (Thailand)](https://bkkthailand.jetabroad.com/)\n"
   ]
  },
  {
   "attachments": {},
   "cell_type": "markdown",
   "metadata": {
    "dotnet_interactive": {
     "language": "csharp"
    },
    "polyglot_notebook": {
     "kernelName": "csharp"
    }
   },
   "source": [
    "### Raw String Literals"
   ]
  },
  {
   "cell_type": "code",
   "execution_count": 1,
   "metadata": {
    "dotnet_interactive": {
     "language": "csharp"
    },
    "polyglot_notebook": {
     "kernelName": "csharp"
    },
    "vscode": {
     "languageId": "polyglot-notebook"
    }
   },
   "outputs": [
    {
     "name": "stdout",
     "output_type": "stream",
     "text": [
      "{\n",
      "    \"hello\": \"world\"\n",
      "}\n",
      "{\n",
      "    \"hello\": \"world\"\n",
      "}\n",
      "{\n",
      "    \"hello\": \"world\"\n",
      "}\n",
      "{\n",
      "    \"hello\": \"world\"\n",
      "}\n"
     ]
    }
   ],
   "source": [
    "// normal string -- hard to read!\n",
    "var normalString = \"{\\n    \\\"hello\\\": \\\"world\\\"\\n}\";\n",
    "Console.WriteLine(normalString);\n",
    "\n",
    "// verbatim string -- better, but still not perfect because of duplicated \"\"\n",
    "Console.WriteLine(@\"{\n",
    "    \"\"hello\"\": \"\"world\"\"\n",
    "}\");\n",
    "\n",
    "// TODO: verbatim interpolated string, not new, but a bit confusing.\n",
    "var greeting = \"hello\";\n",
    "Console.WriteLine(@\"{\n",
    "    \"\"hello\"\": \"\"world\"\"\n",
    "}\");\n",
    "\n",
    "// TODO: raw string literal\n",
    "Console.WriteLine(\"\"\"\n",
    "{\n",
    "    \"hello\": \"world\"\n",
    "}\n",
    "\"\"\");\n",
    "\n",
    "// TODO: try interpolation with line breaks\n"
   ]
  },
  {
   "attachments": {},
   "cell_type": "markdown",
   "metadata": {
    "dotnet_interactive": {
     "language": "csharp"
    },
    "polyglot_notebook": {
     "kernelName": "csharp"
    }
   },
   "source": [
    "### Generic Attributes"
   ]
  },
  {
   "cell_type": "code",
   "execution_count": 29,
   "metadata": {
    "dotnet_interactive": {
     "language": "csharp"
    },
    "polyglot_notebook": {
     "kernelName": "csharp"
    },
    "vscode": {
     "languageId": "polyglot-notebook"
    }
   },
   "outputs": [],
   "source": [
    "using System.IO;\n",
    "\n",
    "// our serializer attribute takes the type of a serializer\n",
    "// TODO: change to generic attribute and take advantage of \n",
    "[CustomSerializer(typeof(DogSerializer))]\n",
    "public class Dog\n",
    "{\n",
    "}\n",
    "\n",
    "public class CustomSerializerAttribute : Attribute\n",
    "{\n",
    "    public Type Serializer { get; set; }\n",
    "\n",
    "    public CustomSerializerAttribute(Type serializer) => \n",
    "        Serializer = serializer;\n",
    "}\n",
    "\n",
    "public class DogSerializer : ISerializer<Dog>\n",
    "{\n",
    "    public Stream Serialize(Dog obj) => new MemoryStream();\n",
    "}\n",
    "\n",
    "public interface ISerializer<T>\n",
    "{\n",
    "    Stream Serialize(T obj);\n",
    "}"
   ]
  },
  {
   "attachments": {},
   "cell_type": "markdown",
   "metadata": {
    "dotnet_interactive": {
     "language": "csharp"
    },
    "polyglot_notebook": {
     "kernelName": "csharp"
    }
   },
   "source": [
    "### Static Abstract Members"
   ]
  },
  {
   "attachments": {},
   "cell_type": "markdown",
   "metadata": {
    "dotnet_interactive": {
     "language": "csharp"
    },
    "polyglot_notebook": {
     "kernelName": "csharp"
    }
   },
   "source": [
    "- Replace both reflection and code generation with compile-time code.\n",
    "- Allow more general generic implementations"
   ]
  },
  {
   "cell_type": "code",
   "execution_count": 34,
   "metadata": {
    "dotnet_interactive": {
     "language": "csharp"
    },
    "polyglot_notebook": {
     "kernelName": "csharp"
    },
    "vscode": {
     "languageId": "polyglot-notebook"
    }
   },
   "outputs": [],
   "source": [
    "// The problem: How do you store \"metadata\" on a type?\n",
    "\n",
    "// via a static property? But that doesn't work with generics\n",
    "public class User\n",
    "{\n",
    "    public static string Table => \"dbo.User\";\n",
    "}\n",
    "\n",
    "// via an attribute? but that requires reflection :(\n",
    "[Table(\"dbo.Users\")]\n",
    "public class Users\n",
    "{\n",
    "}\n",
    "\n",
    "public void DeleteRecords<T>()\n",
    "{\n",
    "    var tableName = ((TableAttribute)Attribute.GetCustomAttribute(typeof(T), typeof(TableAttribute))).Table;\n",
    "    var sqlString = $\"DELETE FROM {tableName}\";\n",
    "}\n",
    "\n",
    "public class TableAttribute : Attribute\n",
    "{\n",
    "    public string Table { get; set; }\n",
    "    public TableAttribute(string table) =>\n",
    "        this.Table = table;\n",
    "}"
   ]
  },
  {
   "cell_type": "code",
   "execution_count": null,
   "metadata": {
    "dotnet_interactive": {
     "language": "csharp"
    },
    "polyglot_notebook": {
     "kernelName": "csharp"
    },
    "vscode": {
     "languageId": "polyglot-notebook"
    }
   },
   "outputs": [],
   "source": [
    "public class User : IDatabaseEntity<User>\n",
    "{\n",
    "    public static string Table => \"dbo.Users\";\n",
    "}\n",
    "\n",
    "// TODO: add static abstract member\n",
    "public interface IDatabaseEntity<T>\n",
    "{\n",
    "}\n",
    "\n",
    "public void DeleteRecords<T>() where T : IDatabaseEntity<T>\n",
    "{\n",
    "}"
   ]
  },
  {
   "attachments": {},
   "cell_type": "markdown",
   "metadata": {
    "dotnet_interactive": {
     "language": "csharp"
    },
    "polyglot_notebook": {
     "kernelName": "csharp"
    }
   },
   "source": [
    "#### Static Abstract Members - Generic Math\n",
    "\n",
    "- This is an application of the above feature"
   ]
  },
  {
   "cell_type": "code",
   "execution_count": 46,
   "metadata": {
    "dotnet_interactive": {
     "language": "csharp"
    },
    "polyglot_notebook": {
     "kernelName": "csharp"
    },
    "vscode": {
     "languageId": "polyglot-notebook"
    }
   },
   "outputs": [
    {
     "data": {
      "text/html": [
       "<div class=\"dni-plaintext\"><pre>6</pre></div><style>\r\n",
       ".dni-code-hint {\r\n",
       "    font-style: italic;\r\n",
       "    overflow: hidden;\r\n",
       "    white-space: nowrap;\r\n",
       "}\r\n",
       ".dni-treeview {\r\n",
       "    white-space: nowrap;\r\n",
       "}\r\n",
       ".dni-treeview td {\r\n",
       "    vertical-align: top;\r\n",
       "    text-align: start;\r\n",
       "}\r\n",
       "details.dni-treeview {\r\n",
       "    padding-left: 1em;\r\n",
       "}\r\n",
       "table td {\r\n",
       "    text-align: start;\r\n",
       "}\r\n",
       "table tr { \r\n",
       "    vertical-align: top; \r\n",
       "    margin: 0em 0px;\r\n",
       "}\r\n",
       "table tr td pre \r\n",
       "{ \r\n",
       "    vertical-align: top !important; \r\n",
       "    margin: 0em 0px !important;\r\n",
       "} \r\n",
       "table th {\r\n",
       "    text-align: start;\r\n",
       "}\r\n",
       "</style>"
      ]
     },
     "metadata": {},
     "output_type": "display_data"
    }
   ],
   "source": [
    "int SumInt(params int[] numbers)\n",
    "{\n",
    "    var sum = 0;\n",
    "    foreach(var num in numbers)\n",
    "    {\n",
    "        sum += num;\n",
    "    }\n",
    "    return sum;\n",
    "}\n",
    "\n",
    "return SumInt(1, 2, 3);"
   ]
  },
  {
   "cell_type": "code",
   "execution_count": 47,
   "metadata": {
    "dotnet_interactive": {
     "language": "csharp"
    },
    "polyglot_notebook": {
     "kernelName": "csharp"
    },
    "vscode": {
     "languageId": "polyglot-notebook"
    }
   },
   "outputs": [
    {
     "data": {
      "text/html": [
       "<div class=\"dni-plaintext\"><pre>6</pre></div><style>\r\n",
       ".dni-code-hint {\r\n",
       "    font-style: italic;\r\n",
       "    overflow: hidden;\r\n",
       "    white-space: nowrap;\r\n",
       "}\r\n",
       ".dni-treeview {\r\n",
       "    white-space: nowrap;\r\n",
       "}\r\n",
       ".dni-treeview td {\r\n",
       "    vertical-align: top;\r\n",
       "    text-align: start;\r\n",
       "}\r\n",
       "details.dni-treeview {\r\n",
       "    padding-left: 1em;\r\n",
       "}\r\n",
       "table td {\r\n",
       "    text-align: start;\r\n",
       "}\r\n",
       "table tr { \r\n",
       "    vertical-align: top; \r\n",
       "    margin: 0em 0px;\r\n",
       "}\r\n",
       "table tr td pre \r\n",
       "{ \r\n",
       "    vertical-align: top !important; \r\n",
       "    margin: 0em 0px !important;\r\n",
       "} \r\n",
       "table th {\r\n",
       "    text-align: start;\r\n",
       "}\r\n",
       "</style>"
      ]
     },
     "metadata": {},
     "output_type": "display_data"
    }
   ],
   "source": [
    "// https://github.com/dotnet/runtime/blob/main/src/libraries/System.Private.CoreLib/src/System/Int32.cs\n",
    "\n",
    "using System.Numerics;\n",
    "\n",
    "T Sum<T>(params T[] numbers)\n",
    "    where T : INumber<T>\n",
    "{\n",
    "    T sum = T.AdditiveIdentity;\n",
    "    foreach(var num in numbers)\n",
    "    {\n",
    "        sum += num;\n",
    "    }\n",
    "    return sum;\n",
    "}\n",
    "\n",
    "return Sum(1, 2, 3);"
   ]
  },
  {
   "attachments": {},
   "cell_type": "markdown",
   "metadata": {
    "dotnet_interactive": {
     "language": "csharp"
    },
    "polyglot_notebook": {
     "kernelName": "csharp"
    }
   },
   "source": [
    "### List Pattern Matching"
   ]
  },
  {
   "attachments": {},
   "cell_type": "markdown",
   "metadata": {
    "dotnet_interactive": {
     "language": "csharp"
    },
    "polyglot_notebook": {
     "kernelName": "csharp"
    }
   },
   "source": [
    "- Pattern matching was introduced in C# 7\n",
    "- Every version of C# has added additional patterns.\n",
    "- C# 11 adds... lists!"
   ]
  },
  {
   "cell_type": "code",
   "execution_count": 69,
   "metadata": {
    "dotnet_interactive": {
     "language": "csharp"
    },
    "polyglot_notebook": {
     "kernelName": "csharp"
    },
    "vscode": {
     "languageId": "polyglot-notebook"
    }
   },
   "outputs": [
    {
     "data": {
      "text/plain": [
       "Parker, Peter"
      ]
     },
     "metadata": {},
     "output_type": "display_data"
    }
   ],
   "source": [
    "var name = \"Peter Parker\";\n",
    "\n",
    "public string FormatName(string name) => name.Split() switch\n",
    "{\n",
    "    [] => \"anonymous\",\n",
    "    [var first] => first,\n",
    "    [var first, var surname] => $\"{surname}, {first}\",\n",
    "    [var first, ..var middleNames, var surname] => $\"{first} {string.Join(\" \", middleNames)}, {surname}\",\n",
    "};\n",
    "\n",
    "return FormatName(name);"
   ]
  },
  {
   "cell_type": "code",
   "execution_count": 68,
   "metadata": {
    "dotnet_interactive": {
     "language": "csharp"
    },
    "polyglot_notebook": {
     "kernelName": "csharp"
    },
    "vscode": {
     "languageId": "polyglot-notebook"
    }
   },
   "outputs": [
    {
     "data": {
      "text/html": [
       "<div class=\"dni-plaintext\"><pre>True</pre></div><style>\r\n",
       ".dni-code-hint {\r\n",
       "    font-style: italic;\r\n",
       "    overflow: hidden;\r\n",
       "    white-space: nowrap;\r\n",
       "}\r\n",
       ".dni-treeview {\r\n",
       "    white-space: nowrap;\r\n",
       "}\r\n",
       ".dni-treeview td {\r\n",
       "    vertical-align: top;\r\n",
       "    text-align: start;\r\n",
       "}\r\n",
       "details.dni-treeview {\r\n",
       "    padding-left: 1em;\r\n",
       "}\r\n",
       "table td {\r\n",
       "    text-align: start;\r\n",
       "}\r\n",
       "table tr { \r\n",
       "    vertical-align: top; \r\n",
       "    margin: 0em 0px;\r\n",
       "}\r\n",
       "table tr td pre \r\n",
       "{ \r\n",
       "    vertical-align: top !important; \r\n",
       "    margin: 0em 0px !important;\r\n",
       "} \r\n",
       "table th {\r\n",
       "    text-align: start;\r\n",
       "}\r\n",
       "</style>"
      ]
     },
     "metadata": {},
     "output_type": "display_data"
    }
   ],
   "source": [
    "\n",
    "if(new[] { 1, 2, 3 } is [>0, >1, >2]) {\n",
    "    return true;\n",
    "}"
   ]
  },
  {
   "attachments": {},
   "cell_type": "markdown",
   "metadata": {
    "dotnet_interactive": {
     "language": "csharp"
    },
    "polyglot_notebook": {
     "kernelName": "csharp"
    }
   },
   "source": [
    "### Required Members"
   ]
  },
  {
   "attachments": {},
   "cell_type": "markdown",
   "metadata": {
    "dotnet_interactive": {
     "language": "csharp"
    },
    "polyglot_notebook": {
     "kernelName": "csharp"
    }
   },
   "source": [
    "- Improves object initializers\n",
    "- Reduces the need for long lists of constructors"
   ]
  },
  {
   "cell_type": "code",
   "execution_count": null,
   "metadata": {
    "dotnet_interactive": {
     "language": "csharp"
    },
    "polyglot_notebook": {
     "kernelName": "csharp"
    },
    "vscode": {
     "languageId": "polyglot-notebook"
    }
   },
   "outputs": [],
   "source": [
    "//#nullable enable\n",
    "\n",
    "public class Person\n",
    "{\n",
    "    public string FirstName { get; set; }\n",
    "    public string MiddleName { get; set; }\n",
    "    public string LastName { get; set; }\n",
    "\n",
    "    /*\n",
    "    public Person(string firstName, string middleName, string lastName)\n",
    "    {\n",
    "        FirstName = firstName;\n",
    "        MiddleName = middleName;\n",
    "        LastName = lastName;\n",
    "    }\n",
    "    */\n",
    "}\n",
    "\n",
    "public class DotNetDeveloper : Person\n",
    "{\n",
    "    public bool UsesDarkMode { get; set; } = true;\n",
    "}\n",
    "\n",
    "/*\n",
    "var p = new Person\n",
    "{\n",
    "    FirstName = \"A\",\n",
    "};\n",
    "*/\n"
   ]
  },
  {
   "attachments": {},
   "cell_type": "markdown",
   "metadata": {
    "dotnet_interactive": {
     "language": "csharp"
    },
    "polyglot_notebook": {
     "kernelName": "csharp"
    }
   },
   "source": [
    "### UTF-8 String Literals"
   ]
  },
  {
   "cell_type": "code",
   "execution_count": 3,
   "metadata": {
    "dotnet_interactive": {
     "language": "csharp"
    },
    "polyglot_notebook": {
     "kernelName": "csharp"
    },
    "vscode": {
     "languageId": "polyglot-notebook"
    }
   },
   "outputs": [
    {
     "name": "stdout",
     "output_type": "stream",
     "text": [
      "65, 0, 66, 0, 67, 0\n",
      "65, 66, 67\n",
      "65, 66, 67\n"
     ]
    }
   ],
   "source": [
    "// utf-16 by default\n",
    "Print(System.Text.Encoding.Unicode.GetBytes(\"ABC\"));\n",
    "\n",
    "// old style\n",
    "Print(System.Text.Encoding.UTF8.GetBytes(\"ABC\"));\n",
    "\n",
    "// new style\n",
    "Print(\"ABC\"u8.ToArray());\n",
    "\n",
    "void Print(byte[] bytes) => Console.WriteLine(string.Join(\", \", bytes));\n"
   ]
  },
  {
   "attachments": {},
   "cell_type": "markdown",
   "metadata": {
    "dotnet_interactive": {
     "language": "csharp"
    },
    "polyglot_notebook": {
     "kernelName": "csharp"
    }
   },
   "source": [
    "### nameof - extended scope"
   ]
  },
  {
   "cell_type": "code",
   "execution_count": 4,
   "metadata": {
    "dotnet_interactive": {
     "language": "csharp"
    },
    "polyglot_notebook": {
     "kernelName": "csharp"
    },
    "vscode": {
     "languageId": "polyglot-notebook"
    }
   },
   "outputs": [],
   "source": [
    "#nullable enable\n",
    "using System.Diagnostics.CodeAnalysis;\n",
    "\n",
    "// this has a nullability warning\n",
    "string screaming = UpperCase(\"hello\");\n",
    "\n",
    "// we can fix the warning by adding the below declaration. nameof() didn't work in this case in previous versions of C#\n",
    "//[return: NotNullIfNotNull(nameof(input))]\n",
    "string? UpperCase(string? input) => input?.ToUpper();"
   ]
  },
  {
   "attachments": {},
   "cell_type": "markdown",
   "metadata": {
    "dotnet_interactive": {
     "language": "csharp"
    },
    "polyglot_notebook": {
     "kernelName": "csharp"
    }
   },
   "source": [
    "### Auto default struct"
   ]
  },
  {
   "cell_type": "code",
   "execution_count": null,
   "metadata": {
    "dotnet_interactive": {
     "language": "csharp"
    },
    "polyglot_notebook": {
     "kernelName": "csharp"
    },
    "vscode": {
     "languageId": "polyglot-notebook"
    }
   },
   "outputs": [],
   "source": [
    "public readonly struct Measurement\n",
    "{\n",
    "    public double Value { get; init; }\n",
    "    public string Description { get; init; }\n",
    "\n",
    "    public Measurement(double value, string description)\n",
    "    {\n",
    "        Value = value;\n",
    "        Description = description;\n",
    "    }\n",
    "\n",
    "    // Before in C#, this would not compile, we'd have the error:\n",
    "    //     'Measurement.Value' must be fully assigned before control is returned to the caller.\n",
    "    public Measurement(string description)\n",
    "    {\n",
    "        Description = description;\n",
    "    }\n",
    "}"
   ]
  },
  {
   "attachments": {},
   "cell_type": "markdown",
   "metadata": {
    "dotnet_interactive": {
     "language": "csharp"
    },
    "polyglot_notebook": {
     "kernelName": "csharp"
    }
   },
   "source": [
    "### File local types (access modifier)"
   ]
  },
  {
   "cell_type": "code",
   "execution_count": null,
   "metadata": {
    "dotnet_interactive": {
     "language": "csharp"
    },
    "polyglot_notebook": {
     "kernelName": "csharp"
    },
    "vscode": {
     "languageId": "polyglot-notebook"
    }
   },
   "outputs": [],
   "source": [
    "// to visual studio!"
   ]
  },
  {
   "attachments": {},
   "cell_type": "markdown",
   "metadata": {
    "dotnet_interactive": {
     "language": "csharp"
    },
    "polyglot_notebook": {
     "kernelName": "csharp"
    }
   },
   "source": [
    "### Pattern Match Spans"
   ]
  },
  {
   "cell_type": "code",
   "execution_count": 15,
   "metadata": {
    "dotnet_interactive": {
     "language": "csharp"
    },
    "polyglot_notebook": {
     "kernelName": "csharp"
    },
    "vscode": {
     "languageId": "polyglot-notebook"
    }
   },
   "outputs": [],
   "source": [
    "// to visual studio (again)!"
   ]
  },
  {
   "attachments": {},
   "cell_type": "markdown",
   "metadata": {
    "dotnet_interactive": {
     "language": "csharp"
    },
    "polyglot_notebook": {
     "kernelName": "csharp"
    }
   },
   "source": [
    "### Improved performance of method group conversion to delegate"
   ]
  },
  {
   "cell_type": "code",
   "execution_count": 6,
   "metadata": {
    "dotnet_interactive": {
     "language": "csharp"
    },
    "polyglot_notebook": {
     "kernelName": "csharp"
    },
    "vscode": {
     "languageId": "polyglot-notebook"
    }
   },
   "outputs": [],
   "source": [
    "int[] numbers = { -2, -1, 0, 1, 2 };\n",
    "\n",
    "bool IsEven(int n) => n % 2 == 0;\n",
    "\n",
    "// in previous C# versions, these have the same behavior, but one of them is slower!\n",
    "\n",
    "// in C# 11, the following two have the same behavior and performance.\n",
    "\n",
    "var even1 = numbers.Where(n => IsEven(n)).ToList();\n",
    "\n",
    "var even2 = numbers.Where(IsEven).ToList();\n"
   ]
  },
  {
   "attachments": {},
   "cell_type": "markdown",
   "metadata": {
    "dotnet_interactive": {
     "language": "csharp"
    },
    "polyglot_notebook": {
     "kernelName": "csharp"
    }
   },
   "source": [
    "### Numeric int pointer alias"
   ]
  },
  {
   "cell_type": "code",
   "execution_count": 14,
   "metadata": {
    "dotnet_interactive": {
     "language": "csharp"
    },
    "polyglot_notebook": {
     "kernelName": "csharp"
    },
    "vscode": {
     "languageId": "polyglot-notebook"
    }
   },
   "outputs": [
    {
     "name": "stdout",
     "output_type": "stream",
     "text": [
      "1628828078104\r\n"
     ]
    }
   ],
   "source": [
    "using System.Runtime.InteropServices;\n",
    "\n",
    "var myStr = \"I seem to be turned around!\";\n",
    "var handle = GCHandle.Alloc(myStr);\n",
    "nint parameter = (IntPtr)handle; // nint is new alias for IntPtr (as is nuint for UIntPtr)\n",
    "Console.WriteLine(parameter);\n",
    "handle.Free();"
   ]
  },
  {
   "attachments": {},
   "cell_type": "markdown",
   "metadata": {
    "dotnet_interactive": {
     "language": "csharp"
    },
    "polyglot_notebook": {
     "kernelName": "csharp"
    }
   },
   "source": [
    "### Low-level Struct Improvements"
   ]
  },
  {
   "attachments": {},
   "cell_type": "markdown",
   "metadata": {
    "dotnet_interactive": {
     "language": "csharp"
    },
    "polyglot_notebook": {
     "kernelName": "csharp"
    }
   },
   "source": [
    "\n",
    "A huge list of improvements, [documented here](https://github.com/dotnet/csharplang/blob/main/proposals/csharp-11.0/low-level-struct-improvements.md).\n",
    "\n",
    "As a summary, you can now implement your own custom types that are as fast as `Span<T>`.\n",
    "\n",
    "Previously, `Span<T>` relied on internal runtime behavior, but it's been generalized and any struct can take part."
   ]
  }
 ],
 "metadata": {
  "kernelspec": {
   "display_name": ".NET (C#)",
   "language": "C#",
   "name": ".net-csharp"
  },
  "polyglot_notebook": {
   "kernelInfo": {
    "defaultKernelName": "csharp",
    "items": [
     {
      "aliases": [
       "c#",
       "C#"
      ],
      "languageName": "C#",
      "name": "csharp"
     },
     {
      "aliases": [
       "f#",
       "F#"
      ],
      "languageName": "F#",
      "name": "fsharp"
     },
     {
      "aliases": [
       "frontend"
      ],
      "languageName": null,
      "name": "vscode"
     }
    ]
   }
  }
 },
 "nbformat": 4,
 "nbformat_minor": 2
}
